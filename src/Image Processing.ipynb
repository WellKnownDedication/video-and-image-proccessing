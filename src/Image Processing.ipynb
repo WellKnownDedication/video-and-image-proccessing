{
 "cells": [
  {
   "cell_type": "code",
   "execution_count": 2,
   "metadata": {},
   "outputs": [],
   "source": [
    "import time\n",
    "import os\n",
    "import subprocess\n",
    "import cv2\n",
    "from skimage.metrics import structural_similarity as ssim\n",
    "from PIL import Image\n",
    "import pandas as pd\n",
    "import numpy as np\n",
    "import matplotlib.pyplot as plt"
   ]
  },
  {
   "cell_type": "markdown",
   "metadata": {},
   "source": [
    "## Taking Photos with a Webcam"
   ]
  },
  {
   "cell_type": "code",
   "execution_count": 73,
   "metadata": {},
   "outputs": [],
   "source": [
    "def take_photos(folder_name, delay_s=3):\n",
    "    folder_path = f\"../data/images/{folder_name}\"\n",
    "    os.makedirs(folder_path, exist_ok=True)\n",
    "\n",
    "    print(\"\\nTaking photo in...\")\n",
    "    while delay_s > 0:\n",
    "        print(f\"{delay_s}...\")\n",
    "        time.sleep(1)\n",
    "        delay_s -= 1\n",
    "\n",
    "    # Capture RAW image in PPM format (lossless)\n",
    "    raw_image_path = f\"{folder_path}/reference.ppm\"\n",
    "    command = f\"fswebcam --no-banner {raw_image_path}\"\n",
    "    subprocess.run(command, shell=True)\n",
    "\n",
    "    # Convert RAW image to different formats\n",
    "    img = Image.open(raw_image_path)\n",
    "    img.save(f\"{folder_path}/output.bmp\", format=\"BMP\")\n",
    "    img.save(f\"{folder_path}/output.jpg\", format=\"JPEG\")\n",
    "    img.save(f\"{folder_path}/output.png\", format=\"PNG\")"
   ]
  },
  {
   "cell_type": "code",
   "execution_count": 74,
   "metadata": {},
   "outputs": [
    {
     "name": "stdout",
     "output_type": "stream",
     "text": [
      "\n",
      "Taking photo in...\n",
      "3...\n",
      "2...\n",
      "1...\n"
     ]
    },
    {
     "name": "stderr",
     "output_type": "stream",
     "text": [
      "\u001b[1m--- Opening /dev/video0...\n",
      "\u001b[0m\u001b[0mTrying source module v4l2...\n",
      "\u001b[0m\u001b[0m/dev/video0 opened.\n",
      "\u001b[0m\u001b[0mNo input was specified, using the first.\n",
      "\u001b[0m\u001b[0mAdjusting resolution from 384x288 to 352x288.\n",
      "\u001b[0m\u001b[1m--- Capturing frame...\n",
      "\u001b[0m\u001b[0mCaptured frame in 0.00 seconds.\n",
      "\u001b[0m\u001b[1m--- Processing captured image...\n",
      "\u001b[0m\u001b[0mDisabling banner.\n",
      "\u001b[0m\u001b[0mWriting JPEG image to '../data/images/test_1/reference.ppm'.\n",
      "\u001b[0m"
     ]
    },
    {
     "name": "stdout",
     "output_type": "stream",
     "text": [
      "\n",
      "Taking photo in...\n",
      "3...\n",
      "2...\n",
      "1...\n"
     ]
    },
    {
     "name": "stderr",
     "output_type": "stream",
     "text": [
      "\u001b[1m--- Opening /dev/video0...\n",
      "\u001b[0m\u001b[0mTrying source module v4l2...\n",
      "\u001b[0m\u001b[0m/dev/video0 opened.\n",
      "\u001b[0m\u001b[0mNo input was specified, using the first.\n",
      "\u001b[0m\u001b[0mAdjusting resolution from 384x288 to 352x288.\n",
      "\u001b[0m\u001b[1m--- Capturing frame...\n",
      "\u001b[0m\u001b[0mCaptured frame in 0.00 seconds.\n",
      "\u001b[0m\u001b[1m--- Processing captured image...\n",
      "\u001b[0m\u001b[0mDisabling banner.\n",
      "\u001b[0m\u001b[0mWriting JPEG image to '../data/images/test_2/reference.ppm'.\n",
      "\u001b[0m"
     ]
    },
    {
     "name": "stdout",
     "output_type": "stream",
     "text": [
      "\n",
      "Taking photo in...\n",
      "3...\n",
      "2...\n",
      "1...\n"
     ]
    },
    {
     "name": "stderr",
     "output_type": "stream",
     "text": [
      "\u001b[1m--- Opening /dev/video0...\n",
      "\u001b[0m\u001b[0mTrying source module v4l2...\n",
      "\u001b[0m\u001b[0m/dev/video0 opened.\n",
      "\u001b[0m\u001b[0mNo input was specified, using the first.\n",
      "\u001b[0m\u001b[0mAdjusting resolution from 384x288 to 352x288.\n",
      "\u001b[0m\u001b[1m--- Capturing frame...\n",
      "\u001b[0m\u001b[0mCaptured frame in 0.00 seconds.\n",
      "\u001b[0m\u001b[1m--- Processing captured image...\n",
      "\u001b[0m\u001b[0mDisabling banner.\n",
      "\u001b[0m\u001b[0mWriting JPEG image to '../data/images/test_3/reference.ppm'.\n",
      "\u001b[0m"
     ]
    }
   ],
   "source": [
    "take_photos(\"test_1\")\n",
    "take_photos(\"test_2\")\n",
    "take_photos(\"test_3\")"
   ]
  },
  {
   "cell_type": "markdown",
   "metadata": {},
   "source": [
    "# Getting image data into a DF"
   ]
  },
  {
   "cell_type": "code",
   "execution_count": 75,
   "metadata": {},
   "outputs": [],
   "source": [
    "def get_df_info():\n",
    "    base_path = \"../data/images/\"\n",
    "    image_formats = [\"bmp\", \"jpg\", \"png\"]\n",
    "    test_folders = [f for f in os.listdir(base_path) if os.path.isdir(os.path.join(base_path, f))]\n",
    "    \n",
    "    data = []\n",
    "\n",
    "    for folder_name in test_folders:\n",
    "        folder_path = os.path.join(base_path, folder_name)\n",
    "\n",
    "        ref_img_path = os.path.join(folder_path, \"reference.ppm\")\n",
    "        ref_img = cv2.imread(ref_img_path, cv2.IMREAD_GRAYSCALE)\n",
    "        # if ref_img is None:\n",
    "        #     print(f\"Skipping {folder} (No valid reference image found)\")\n",
    "        #     continue\n",
    "        \n",
    "        for fmt in image_formats:\n",
    "            file_path = os.path.join(folder_path, f\"output.{fmt}\")\n",
    "            compare_img = cv2.imread(file_path, cv2.IMREAD_GRAYSCALE)\n",
    "            if compare_img is not None:\n",
    "                # Resize to match reference if needed\n",
    "                compare_img = cv2.resize(compare_img, (ref_img.shape[1], ref_img.shape[0]))\n",
    "\n",
    "                # Compute SSIM\n",
    "                ssim_score = ssim(ref_img, compare_img)\n",
    "                \n",
    "                # Compute Mean Squared Error (MSE)\n",
    "                mse_score = np.mean((ref_img.astype(\"float\") - compare_img.astype(\"float\")) ** 2)\n",
    "\n",
    "            if os.path.exists(file_path):\n",
    "                file_size = os.path.getsize(file_path) / 1024  # Convert to KB\n",
    "                img = cv2.imread(file_path)\n",
    "                if img is not None:\n",
    "                    height, width = img.shape[:2]\n",
    "                image_size = f\"{width}x{height}\"  # Known capture resolution\n",
    "                data.append([folder_name, fmt.upper(), image_size, f\"{file_size:.2f} KB\", round(ssim_score, 4), round(mse_score, 4)])\n",
    "\n",
    "    # Create a global DataFrame\n",
    "    df = pd.DataFrame(data, columns=[\"Test Folder\", \"Format\", \"Resolution\", \"File Size\", \"SSIM\", \"MSE\"])\n",
    "    return df"
   ]
  },
  {
   "cell_type": "code",
   "execution_count": 76,
   "metadata": {},
   "outputs": [
    {
     "data": {
      "text/html": [
       "<div>\n",
       "<style scoped>\n",
       "    .dataframe tbody tr th:only-of-type {\n",
       "        vertical-align: middle;\n",
       "    }\n",
       "\n",
       "    .dataframe tbody tr th {\n",
       "        vertical-align: top;\n",
       "    }\n",
       "\n",
       "    .dataframe thead th {\n",
       "        text-align: right;\n",
       "    }\n",
       "</style>\n",
       "<table border=\"1\" class=\"dataframe\">\n",
       "  <thead>\n",
       "    <tr style=\"text-align: right;\">\n",
       "      <th></th>\n",
       "      <th>Test Folder</th>\n",
       "      <th>Format</th>\n",
       "      <th>Resolution</th>\n",
       "      <th>File Size</th>\n",
       "      <th>SSIM</th>\n",
       "      <th>MSE</th>\n",
       "    </tr>\n",
       "  </thead>\n",
       "  <tbody>\n",
       "    <tr>\n",
       "      <th>0</th>\n",
       "      <td>test_2</td>\n",
       "      <td>BMP</td>\n",
       "      <td>352x288</td>\n",
       "      <td>297.05 KB</td>\n",
       "      <td>0.9996</td>\n",
       "      <td>0.0094</td>\n",
       "    </tr>\n",
       "    <tr>\n",
       "      <th>1</th>\n",
       "      <td>test_2</td>\n",
       "      <td>JPG</td>\n",
       "      <td>352x288</td>\n",
       "      <td>2.96 KB</td>\n",
       "      <td>0.9997</td>\n",
       "      <td>0.0046</td>\n",
       "    </tr>\n",
       "    <tr>\n",
       "      <th>2</th>\n",
       "      <td>test_2</td>\n",
       "      <td>PNG</td>\n",
       "      <td>352x288</td>\n",
       "      <td>12.62 KB</td>\n",
       "      <td>0.9930</td>\n",
       "      <td>0.2819</td>\n",
       "    </tr>\n",
       "    <tr>\n",
       "      <th>3</th>\n",
       "      <td>test_3</td>\n",
       "      <td>BMP</td>\n",
       "      <td>352x288</td>\n",
       "      <td>297.05 KB</td>\n",
       "      <td>0.9998</td>\n",
       "      <td>0.0074</td>\n",
       "    </tr>\n",
       "    <tr>\n",
       "      <th>4</th>\n",
       "      <td>test_3</td>\n",
       "      <td>JPG</td>\n",
       "      <td>352x288</td>\n",
       "      <td>2.97 KB</td>\n",
       "      <td>0.9999</td>\n",
       "      <td>0.0013</td>\n",
       "    </tr>\n",
       "    <tr>\n",
       "      <th>5</th>\n",
       "      <td>test_3</td>\n",
       "      <td>PNG</td>\n",
       "      <td>352x288</td>\n",
       "      <td>13.03 KB</td>\n",
       "      <td>0.9929</td>\n",
       "      <td>0.3652</td>\n",
       "    </tr>\n",
       "    <tr>\n",
       "      <th>6</th>\n",
       "      <td>test_1</td>\n",
       "      <td>BMP</td>\n",
       "      <td>352x288</td>\n",
       "      <td>297.05 KB</td>\n",
       "      <td>0.9997</td>\n",
       "      <td>0.0115</td>\n",
       "    </tr>\n",
       "    <tr>\n",
       "      <th>7</th>\n",
       "      <td>test_1</td>\n",
       "      <td>JPG</td>\n",
       "      <td>352x288</td>\n",
       "      <td>3.16 KB</td>\n",
       "      <td>0.9998</td>\n",
       "      <td>0.0047</td>\n",
       "    </tr>\n",
       "    <tr>\n",
       "      <th>8</th>\n",
       "      <td>test_1</td>\n",
       "      <td>PNG</td>\n",
       "      <td>352x288</td>\n",
       "      <td>15.34 KB</td>\n",
       "      <td>0.9934</td>\n",
       "      <td>0.3322</td>\n",
       "    </tr>\n",
       "  </tbody>\n",
       "</table>\n",
       "</div>"
      ],
      "text/plain": [
       "  Test Folder Format Resolution  File Size    SSIM     MSE\n",
       "0      test_2    BMP    352x288  297.05 KB  0.9996  0.0094\n",
       "1      test_2    JPG    352x288    2.96 KB  0.9997  0.0046\n",
       "2      test_2    PNG    352x288   12.62 KB  0.9930  0.2819\n",
       "3      test_3    BMP    352x288  297.05 KB  0.9998  0.0074\n",
       "4      test_3    JPG    352x288    2.97 KB  0.9999  0.0013\n",
       "5      test_3    PNG    352x288   13.03 KB  0.9929  0.3652\n",
       "6      test_1    BMP    352x288  297.05 KB  0.9997  0.0115\n",
       "7      test_1    JPG    352x288    3.16 KB  0.9998  0.0047\n",
       "8      test_1    PNG    352x288   15.34 KB  0.9934  0.3322"
      ]
     },
     "execution_count": 76,
     "metadata": {},
     "output_type": "execute_result"
    }
   ],
   "source": [
    "df = get_df_info()\n",
    "df.head(10)"
   ]
  },
  {
   "cell_type": "markdown",
   "metadata": {},
   "source": [
    "# Visualisation"
   ]
  },
  {
   "cell_type": "code",
   "execution_count": 78,
   "metadata": {},
   "outputs": [
    {
     "data": {
      "image/png": "[encoded data removed]",
      "text/plain": [
       "<Figure size 800x500 with 1 Axes>"
      ]
     },
     "metadata": {},
     "output_type": "display_data"
    }
   ],
   "source": [
    "plt.figure(figsize=(8, 5))\n",
    "plt.bar(df[\"Format\"], df[\"File Size\"].str.replace(\" KB\", \"\").astype(float), color=[\"red\", \"blue\", \"green\"])\n",
    "plt.xlabel(\"Image Format\")\n",
    "plt.ylabel(\"File Size (KB)\")\n",
    "plt.title(\"File Size vs. Image Format\")\n",
    "plt.grid(axis=\"y\")\n",
    "plt.show()"
   ]
  },
  {
   "cell_type": "code",
   "execution_count": 80,
   "metadata": {},
   "outputs": [
    {
     "data": {
      "image/png": "[encoded data removed]",
      "text/plain": [
       "<Figure size 800x500 with 1 Axes>"
      ]
     },
     "metadata": {},
     "output_type": "display_data"
    }
   ],
   "source": [
    "plt.figure(figsize=(8, 5))\n",
    "plt.bar(df[\"Format\"], df[\"SSIM\"], color=[\"red\", \"blue\", \"green\"])\n",
    "plt.xlabel(\"Image Format\")\n",
    "plt.ylabel(\"Quality Estimate (SSIM)\")\n",
    "plt.title(\"Image Quality vs. Format\")\n",
    "plt.grid(axis=\"y\")\n",
    "plt.show()"
   ]
  },
  {
   "cell_type": "code",
   "execution_count": 82,
   "metadata": {},
   "outputs": [
    {
     "data": {
      "image/png": "[encoded data removed]",
      "text/plain": [
       "<Figure size 800x500 with 1 Axes>"
      ]
     },
     "metadata": {},
     "output_type": "display_data"
    }
   ],
   "source": [
    "plt.figure(figsize=(8, 5))\n",
    "plt.bar(df[\"Format\"], df[\"MSE\"], color=[\"red\", \"blue\", \"green\"])\n",
    "plt.xlabel(\"Image Format\")\n",
    "plt.ylabel(\"Quality Estimate (MSE)\")\n",
    "plt.title(\"Image Quality vs. Format\")\n",
    "plt.grid(axis=\"y\")\n",
    "plt.show()"
   ]
  },
  {
   "cell_type": "code",
   "execution_count": null,
   "metadata": {},
   "outputs": [],
   "source": []
  }
 ],
 "metadata": {
  "kernelspec": {
   "display_name": "pvenv",
   "language": "python",
   "name": "python3"
  },
  "language_info": {
   "codemirror_mode": {
    "name": "ipython",
    "version": 3
   },
   "file_extension": ".py",
   "mimetype": "text/x-python",
   "name": "python",
   "nbconvert_exporter": "python",
   "pygments_lexer": "ipython3",
   "version": "3.13.2"
  }
 },
 "nbformat": 4,
 "nbformat_minor": 2
}
