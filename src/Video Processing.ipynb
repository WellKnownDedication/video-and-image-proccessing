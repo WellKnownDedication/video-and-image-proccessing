{
 "cells": [
  {
   "cell_type": "code",
   "execution_count": 2,
   "metadata": {},
   "outputs": [],
   "source": [
    "import time\n",
    "import os\n",
    "import cv2\n",
    "import numpy as np\n",
    "import pandas as pd\n",
    "import subprocess\n",
    "import matplotlib.pyplot as plt\n",
    "from skimage.metrics import structural_similarity as ssim\n",
    "from PIL import Image"
   ]
  },
  {
   "cell_type": "code",
   "execution_count": 9,
   "metadata": {},
   "outputs": [],
   "source": [
    "def record_videos(duration_s=5, fps=30, resolution=(640, 480)):\n",
    "    folder_path = f\"../data/video/\"\n",
    "    os.makedirs(folder_path, exist_ok=True)\n",
    "    \n",
    "    formats = {\n",
    "        \"i420.avi\": cv2.VideoWriter_fourcc(*\"I420\"),\n",
    "        \"mp4.mp4\": cv2.VideoWriter_fourcc(*\"mp4v\"),\n",
    "        \"divx.avi\": cv2.VideoWriter_fourcc(*\"DIVX\"),\n",
    "        \"flv.flv\": cv2.VideoWriter_fourcc(*\"FLV1\"),\n",
    "        \"xvid.avi\": cv2.VideoWriter_fourcc(*\"XVID\")\n",
    "    }\n",
    "    \n",
    "    cap = cv2.VideoCapture(0)\n",
    "    writers = {fmt: cv2.VideoWriter(os.path.join(folder_path, fmt), fourcc, fps, resolution) for fmt, fourcc in formats.items()}\n",
    "    \n",
    "    frame_count = fps * duration_s\n",
    "    for _ in range(frame_count):\n",
    "        ret, frame = cap.read()\n",
    "        if not ret:\n",
    "            break\n",
    "        for writer in writers.values():\n",
    "            writer.write(frame)\n",
    "    \n",
    "    cap.release()\n",
    "    for writer in writers.values():\n",
    "        writer.release()\n",
    "\n",
    "def extract_frames(folder_name):\n",
    "    folder_path = f\"../data/video/\"\n",
    "    output_path = os.path.join(folder_path, \"frames\")\n",
    "    os.makedirs(output_path, exist_ok=True)\n",
    "    \n",
    "    frame_files = {}\n",
    "    for video_file in os.listdir(folder_path):\n",
    "        if not video_file.endswith((\".avi\", \".mp4\", \".flv\")):\n",
    "            continue\n",
    "        \n",
    "        cap = cv2.VideoCapture(os.path.join(folder_path, video_file))\n",
    "        ret, frame = cap.read()\n",
    "        if ret:\n",
    "            frame_filename = os.path.join(output_path, f\"frame_{video_file.split('.')[0]}.jpg\")\n",
    "            cv2.imwrite(frame_filename, frame)\n",
    "            frame_files[video_file] = frame_filename\n",
    "        cap.release()\n",
    "    \n",
    "    return frame_files\n",
    "\n",
    "def analyze_videos(folder_name):\n",
    "    folder_path = f\"../data/video/\"\n",
    "    frame_files = extract_frames(folder_name)\n",
    "    \n",
    "    data = []\n",
    "    for video_file, frame_file in frame_files.items():\n",
    "        file_path = os.path.join(folder_path, video_file)\n",
    "        file_size = os.path.getsize(file_path) / 1024  # KB\n",
    "        \n",
    "        img = cv2.imread(frame_file, cv2.IMREAD_GRAYSCALE)\n",
    "        ref_img = cv2.imread(list(frame_files.values())[0], cv2.IMREAD_GRAYSCALE)\n",
    "        \n",
    "        ssim_score = ssim(ref_img, img) if img is not None else None\n",
    "        mse_score = np.mean((ref_img.astype(\"float\") - img.astype(\"float\")) ** 2) if img is not None else None\n",
    "        \n",
    "        height, width = img.shape[:2]\n",
    "        resolution = f\"{width}x{height}\"\n",
    "        \n",
    "        duration_s = 5\n",
    "        fps = 5\n",
    "        data.append([folder_name, video_file.split('.')[1].upper(), duration_s, fps, resolution, f\"{file_size:.2f} KB\", round(ssim_score, 4), round(mse_score, 4)])\n",
    "    \n",
    "    df = pd.DataFrame(data, columns=[\"Test No\", \"Format\", \"Duration (s)\", \"FPS\", \"Resolution\", \"File Size\", \"SSIM\", \"MSE\"])\n",
    "    return df\n"
   ]
  },
  {
   "cell_type": "code",
   "execution_count": 10,
   "metadata": {},
   "outputs": [
    {
     "name": "stderr",
     "output_type": "stream",
     "text": [
      "OpenCV: FFMPEG: tag 0x31564c46/'FLV1' is not supported with codec id 21 and format 'flv / FLV (Flash Video)'\n",
      "OpenCV: FFMPEG: fallback to use tag 0x00000002/'????'\n"
     ]
    },
    {
     "ename": "TypeError",
     "evalue": "'str' object cannot be interpreted as an integer",
     "output_type": "error",
     "traceback": [
      "\u001b[31m---------------------------------------------------------------------------\u001b[39m",
      "\u001b[31mTypeError\u001b[39m                                 Traceback (most recent call last)",
      "\u001b[36mCell\u001b[39m\u001b[36m \u001b[39m\u001b[32mIn[10]\u001b[39m\u001b[32m, line 3\u001b[39m\n\u001b[32m      1\u001b[39m \u001b[38;5;66;03m# Run processes\u001b[39;00m\n\u001b[32m      2\u001b[39m test_folder = \u001b[33m\"\u001b[39m\u001b[33mtest_video\u001b[39m\u001b[33m\"\u001b[39m\n\u001b[32m----> \u001b[39m\u001b[32m3\u001b[39m \u001b[43mrecord_videos\u001b[49m\u001b[43m(\u001b[49m\u001b[43mtest_folder\u001b[49m\u001b[43m)\u001b[49m\n\u001b[32m      4\u001b[39m df = analyze_videos(test_folder)\n\u001b[32m      6\u001b[39m \u001b[38;5;66;03m# Plot file size vs format\u001b[39;00m\n",
      "\u001b[36mCell\u001b[39m\u001b[36m \u001b[39m\u001b[32mIn[9]\u001b[39m\u001b[32m, line 17\u001b[39m, in \u001b[36mrecord_videos\u001b[39m\u001b[34m(duration_s, fps, resolution)\u001b[39m\n\u001b[32m     14\u001b[39m writers = {fmt: cv2.VideoWriter(os.path.join(folder_path, fmt), fourcc, fps, resolution) \u001b[38;5;28;01mfor\u001b[39;00m fmt, fourcc \u001b[38;5;129;01min\u001b[39;00m formats.items()}\n\u001b[32m     16\u001b[39m frame_count = fps * duration_s\n\u001b[32m---> \u001b[39m\u001b[32m17\u001b[39m \u001b[38;5;28;01mfor\u001b[39;00m _ \u001b[38;5;129;01min\u001b[39;00m \u001b[38;5;28;43mrange\u001b[39;49m\u001b[43m(\u001b[49m\u001b[43mframe_count\u001b[49m\u001b[43m)\u001b[49m:\n\u001b[32m     18\u001b[39m     ret, frame = cap.read()\n\u001b[32m     19\u001b[39m     \u001b[38;5;28;01mif\u001b[39;00m \u001b[38;5;129;01mnot\u001b[39;00m ret:\n",
      "\u001b[31mTypeError\u001b[39m: 'str' object cannot be interpreted as an integer"
     ]
    }
   ],
   "source": [
    "# Run processes\n",
    "test_folder = \"test_video\"\n",
    "record_videos(test_folder)\n",
    "df = analyze_videos(test_folder)\n",
    "\n",
    "# Plot file size vs format\n",
    "plt.figure(figsize=(8, 5))\n",
    "plt.bar(df[\"Format\"], df[\"File Size\"].str.replace(\" KB\", \"\").astype(float), color=[\"red\", \"blue\", \"green\", \"purple\", \"orange\"])\n",
    "plt.xlabel(\"Video Format\")\n",
    "plt.ylabel(\"File Size (KB)\")\n",
    "plt.title(\"File Size vs. Video Format\")\n",
    "plt.grid(axis=\"y\")\n",
    "plt.show()\n",
    "\n",
    "# Plot image quality vs format\n",
    "plt.figure(figsize=(8, 5))\n",
    "plt.bar(df[\"Format\"], df[\"SSIM\"].astype(float), color=[\"red\", \"blue\", \"green\", \"purple\", \"orange\"])\n",
    "plt.xlabel(\"Video Format\")\n",
    "plt.ylabel(\"SSIM Score\")\n",
    "plt.title(\"Image Quality vs. Video Format\")\n",
    "plt.grid(axis=\"y\")\n",
    "plt.show()\n",
    "\n",
    "df.head()"
   ]
  },
  {
   "cell_type": "code",
   "execution_count": null,
   "metadata": {},
   "outputs": [],
   "source": []
  }
 ],
 "metadata": {
  "kernelspec": {
   "display_name": "pvenv",
   "language": "python",
   "name": "python3"
  },
  "language_info": {
   "codemirror_mode": {
    "name": "ipython",
    "version": 3
   },
   "file_extension": ".py",
   "mimetype": "text/x-python",
   "name": "python",
   "nbconvert_exporter": "python",
   "pygments_lexer": "ipython3",
   "version": "3.13.2"
  }
 },
 "nbformat": 4,
 "nbformat_minor": 2
}
