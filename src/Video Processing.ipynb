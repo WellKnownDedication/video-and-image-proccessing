{
 "cells": [
  {
   "cell_type": "code",
   "execution_count": 5,
   "metadata": {},
   "outputs": [],
   "source": [
    "import time\n",
    "import os\n",
    "import subprocess\n",
    "import cv2\n",
    "import moviepy\n",
    "from skimage.metrics import structural_similarity as ssim\n",
    "from PIL import Image\n",
    "import pandas as pd\n",
    "import numpy as np\n",
    "import matplotlib.pyplot as plt"
   ]
  },
  {
   "cell_type": "code",
   "execution_count": 14,
   "metadata": {},
   "outputs": [],
   "source": [
    "def capture_video(folder_name, delay_s=3, video_duration_s = 5):\n",
    "    folder_path = f\"../data/videos/{folder_name}\"\n",
    "    os.makedirs(folder_path, exist_ok=True)\n",
    "\n",
    "    print(\"\\nTaking video in...\")\n",
    "    while delay_s > 0:\n",
    "        print(f\"{delay_s}...\")\n",
    "        time.sleep(1)\n",
    "        delay_s -= 1\n",
    "\n",
    "    raw_video_path = f\"{folder_path}/i420.avi\"\n",
    "    command = f\"ffmpeg -y -f v4l2 -framerate 30 -i /dev/video0 -t {video_duration_s} {raw_video_path}\"\n",
    "    subprocess.run(command, shell=True)\n",
    "\n",
    "    formats = {\n",
    "        \"mp4.mp4\": \"libx264\",   # MP4 format\n",
    "        \"divx.avi\": \"mpeg4\",    # DivX format\n",
    "        \"flv.flv\": \"flv\",       # FLV format\n",
    "        \"xvid.avi\": \"libxvid\"   # Xvid format\n",
    "    }\n",
    "\n",
    "    for filename, codec in formats.items():\n",
    "        output_path = f\"{folder_path}/{filename}\"\n",
    "        command = f\"ffmpeg -i {raw_video_path} -c:v {codec} {output_path}\"\n",
    "        subprocess.run(command, shell=True)\n"
   ]
  },
  {
   "cell_type": "code",
   "execution_count": null,
   "metadata": {},
   "outputs": [
    {
     "name": "stdout",
     "output_type": "stream",
     "text": [
      "\n",
      "Taking video in...\n",
      "3...\n"
     ]
    }
   ],
   "source": [
    "capture_video(\"test\")"
   ]
  },
  {
   "cell_type": "code",
   "execution_count": null,
   "metadata": {},
   "outputs": [],
   "source": []
  }
 ],
 "metadata": {
  "kernelspec": {
   "display_name": "pvenv",
   "language": "python",
   "name": "python3"
  },
  "language_info": {
   "codemirror_mode": {
    "name": "ipython",
    "version": 3
   },
   "file_extension": ".py",
   "mimetype": "text/x-python",
   "name": "python",
   "nbconvert_exporter": "python",
   "pygments_lexer": "ipython3",
   "version": "3.13.2"
  }
 },
 "nbformat": 4,
 "nbformat_minor": 2
}
