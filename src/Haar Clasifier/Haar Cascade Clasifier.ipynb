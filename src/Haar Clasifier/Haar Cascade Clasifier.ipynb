{
 "cells": [
  {
   "cell_type": "code",
   "execution_count": 85,
   "metadata": {},
   "outputs": [],
   "source": [
    "import cv2\n",
    "import os\n",
    "import numpy as np\n",
    "import matplotlib.pyplot as plt"
   ]
  },
  {
   "cell_type": "markdown",
   "metadata": {},
   "source": [
    "# Haar Cascade Clasifier\n",
    "\n",
    "## Part 1\n",
    "\n",
    "Existing cascade has been downloaded from: https://github.com/opencv/opencv/blob/master/data/haarcascades/haarcascade_frontalface_default.xml"
   ]
  },
  {
   "cell_type": "code",
   "execution_count": 88,
   "metadata": {},
   "outputs": [],
   "source": [
    "def detect_face(img, cascade, scalefactor, minNeighbours):\n",
    "    \n",
    "    face_img = img.copy()\n",
    "     \n",
    "    face_rect = cascade.detectMultiScale(face_img, scaleFactor = scalefactor, minNeighbors = minNeighbours)\n",
    "     \n",
    "    for (x, y, w, h) in face_rect:\n",
    "        cv2.rectangle(face_img, (x, y), \n",
    "                      (x + w, y + h), (255, 255, 255), 10)\\\n",
    "         \n",
    "    return face_img\n",
    "\n",
    "def image_testing(path, format, cascade, scaleFactorLst, MinNeighbourLst):\n",
    "    if len(scaleFactorLst) != len(MinNeighbourLst):\n",
    "        raise \"Different len of scale factor list and min neighbour list\"\n",
    "\n",
    "    for file in os.listdir(path):\n",
    "        if file.endswith(format):\n",
    "            test_folder_name = f\"{path}/{file.replace(format, \"\")}\"\n",
    "            img = cv2.imread(f\"{path}{file}\")\n",
    "            img = cv2.cvtColor(img, cv2.COLOR_BGR2RGB)\n",
    "            img_file_name = file.replace(format, \"\")\n",
    "\n",
    "\n",
    "            output_dir = os.path.join(path, test_folder_name)  # Create a folder inside path\n",
    "            os.makedirs(output_dir, exist_ok=True)  # Ensure the folder exists\n",
    "\n",
    "    \n",
    "            for i in range (0,len(scaleFactorLst)):\n",
    "                processed_image = detect_face(img, cascade, scaleFactorLst[i], MinNeighbourLst[i])\n",
    "                \n",
    "                processed_image = cv2.cvtColor(processed_image, cv2.COLOR_BGR2RGB)\n",
    "                cv2.imwrite(f\"{test_folder_name}/{img_file_name}_test_{i+1}.jpg\", processed_image)\n",
    "    \n",
    "    print(\"Data Processed\")\n",
    "    return 0"
   ]
  },
  {
   "cell_type": "code",
   "execution_count": 89,
   "metadata": {},
   "outputs": [
    {
     "name": "stdout",
     "output_type": "stream",
     "text": [
      "Data Processed\n",
      "exit code  0\n"
     ]
    }
   ],
   "source": [
    "haar_path = \"../../data/haar_clasifier/\"\n",
    "\n",
    "#import cascade\n",
    "face_cascade = cv2.CascadeClassifier(f\"{haar_path}haarcascade_frontalface_default.xml\")\n",
    "\n",
    "#import testing images\n",
    "file_format = \".jpg\"\n",
    "\n",
    "scale_factors = [1.01, 1.05, 1.10, 1.20, 1.30, 1.50, 1.75, 2.00, 2.50, 3.00]\n",
    "min_neighbors = [10]*10\n",
    "\n",
    "print(f\"exit code \", image_testing(haar_path, file_format, face_cascade, scale_factors, min_neighbors))\n"
   ]
  },
  {
   "cell_type": "markdown",
   "metadata": {},
   "source": [
    "img_1: total faces = 17\n",
    "img_2: total faces = 6\n",
    "\n",
    "img, total recognitions, correct recognitions, wrong recognitions\n",
    "img_1_1, 22, 17, 5\n",
    "img1_2, 19, 17, 2\n",
    "img_1_3, 17, 17, 0\n",
    "img_1_4, 15, 15, 0\n",
    "img_1_5, 15, 15, 0\n",
    "img_1_6, 16, 15, 1\n",
    "img_1_7, 10, 10, 0\n",
    "img_1_8, 5, 5, 0\n",
    "img_1_9, 10, 10, 0\n"
   ]
  },
  {
   "cell_type": "code",
   "execution_count": 84,
   "metadata": {},
   "outputs": [
    {
     "name": "stdout",
     "output_type": "stream",
     "text": [
      "Data Processed\n",
      "exit code  0\n"
     ]
    }
   ],
   "source": [
    "\n",
    "scale_factors = [1.20]*10\n",
    "min_neighbors = [2,3,4,5,6,7,8,9,10,11]\n",
    "\n",
    "print(f\"exit code \", image_testing(haar_path, file_format, face_cascade, scale_factors, min_neighbors))"
   ]
  },
  {
   "cell_type": "code",
   "execution_count": null,
   "metadata": {},
   "outputs": [],
   "source": []
  }
 ],
 "metadata": {
  "kernelspec": {
   "display_name": "pvenv",
   "language": "python",
   "name": "python3"
  },
  "language_info": {
   "codemirror_mode": {
    "name": "ipython",
    "version": 3
   },
   "file_extension": ".py",
   "mimetype": "text/x-python",
   "name": "python",
   "nbconvert_exporter": "python",
   "pygments_lexer": "ipython3",
   "version": "3.13.2"
  }
 },
 "nbformat": 4,
 "nbformat_minor": 2
}
